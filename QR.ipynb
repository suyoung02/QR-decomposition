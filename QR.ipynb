{
 "cells": [
  {
   "cell_type": "markdown",
   "metadata": {},
   "source": [
    "Dương Song\n",
    "20127310\n",
    "20CLC07"
   ]
  },
  {
   "cell_type": "code",
   "execution_count": 1,
   "metadata": {},
   "outputs": [],
   "source": [
    "import math\n",
    "import copy"
   ]
  },
  {
   "cell_type": "markdown",
   "metadata": {},
   "source": [
    "Tính giá trị đơn vị của vector"
   ]
  },
  {
   "cell_type": "code",
   "execution_count": 2,
   "metadata": {},
   "outputs": [],
   "source": [
    "def gia_tri_thuc(A, B, n, i,j): #tính giá trị đơn vị vector giữa vector cột i của ma trận A và cột j của ma trận B \n",
    "    sum = 0\n",
    "    k = 0\n",
    "    while(k < n):\n",
    "        sum += A[k][i] * B[k][j]\n",
    "        k += 1\n",
    "    return sum"
   ]
  },
  {
   "cell_type": "markdown",
   "metadata": {},
   "source": [
    "Hàm thực hiện thuật toán Gram-Schmidt tìm Q và R"
   ]
  },
  {
   "cell_type": "code",
   "execution_count": 4,
   "metadata": {},
   "outputs": [],
   "source": [
    "def find_Q_R(A): #Hàm thực hiện thuật toán Gram-Schmidt tìm Q và R\n",
    "    buffer = copy.deepcopy(A)\n",
    "    n = len(A)\n",
    "    m = len(A[0])\n",
    "    val = [0] * n\n",
    "    for i in range(n):\n",
    "        val[i] = [0] * m\n",
    "    real = []\n",
    "    real.append(gia_tri_thuc(buffer,buffer,n,0,0))\n",
    "    if real[0] == 0:\n",
    "        return 0\n",
    "    for i in range(1,m):\n",
    "        for j in range(i):\n",
    "            val[j][i] = gia_tri_thuc(buffer,buffer,n,i,j)\n",
    "            for k in range(n):\n",
    "                buffer[k][i] -= (val[j][i] / real[j]) * buffer[k][j]\n",
    "        real.append(gia_tri_thuc(buffer,buffer,n,i,i))\n",
    "        if(real[i] == 0):\n",
    "            return 0\n",
    "    buff = copy.deepcopy(buffer)\n",
    "    for i in range(m):\n",
    "        var = gia_tri_thuc(buffer,buffer,n,i,i)\n",
    "        for j in range(n):\n",
    "            buffer[j][i] = buffer[j][i] / math.sqrt(var)\n",
    "            \n",
    "    result = [0] * m\n",
    "    for i in range(m):\n",
    "        result[i] = [0] * m\n",
    "    for i in range(m):\n",
    "        for j in range(m):\n",
    "            if(i < j):\n",
    "                result[i][j] = gia_tri_thuc(buff,A,n,i,j) / math.sqrt(real[i])\n",
    "            elif i == j:\n",
    "                result[i][j] = math.sqrt(real[i])\n",
    "    return buffer,result"
   ]
  },
  {
   "cell_type": "markdown",
   "metadata": {},
   "source": [
    "Input của bài câu 2"
   ]
  },
  {
   "cell_type": "code",
   "execution_count": 6,
   "metadata": {},
   "outputs": [
    {
     "name": "stdout",
     "output_type": "stream",
     "text": [
      "[[0.3333333333333333, 0.6666666666666666, 0.6666666666666664], [0.6666666666666666, 0.3333333333333333, -0.6666666666666667], [-0.6666666666666666, 0.6666666666666666, -0.33333333333333354]]\n",
      "[[3.0, -3.0, 0.6666666666666666], [0, 3.0, 2.3333333333333335], [0, 0, 0.33333333333333326]]\n"
     ]
    }
   ],
   "source": [
    "A = [[1,1,2],[2,-1,1],[-2,4,1]]\n",
    "Q, R = find_Q_R(A)\n",
    "print(Q)\n",
    "print(R)"
   ]
  },
  {
   "cell_type": "code",
   "execution_count": 7,
   "metadata": {},
   "outputs": [
    {
     "name": "stdout",
     "output_type": "stream",
     "text": [
      "[[0.4082482904638631, 0.5773502691896256, 0.7071067811865475], [0.8164965809277261, -0.5773502691896257, 7.850462293418876e-17], [0.4082482904638631, 0.5773502691896256, -0.7071067811865476]]\n",
      "[[2.449489742783178, -0.8164965809277261, 1.6329931618554523], [0, 2.3094010767585034, -1.1547005383792515], [0, 0, 1.414213562373095]]\n"
     ]
    }
   ],
   "source": [
    "A = [[1,1,1],[2,-2,2],[1,1,-1]]\n",
    "Q, R = find_Q_R(A)\n",
    "print(Q)\n",
    "print(R)"
   ]
  },
  {
   "cell_type": "code",
   "execution_count": 8,
   "metadata": {},
   "outputs": [
    {
     "name": "stdout",
     "output_type": "stream",
     "text": [
      "[[0.7071067811865475, 0.0, -0.7071067811865475], [0.0, 1.0, 0.0], [0.7071067811865475, 0.0, 0.7071067811865475]]\n",
      "[[1.4142135623730951, 1.414213562373095, 0.0], [0, 1.0, 2.0], [0, 0, 1.4142135623730951]]\n"
     ]
    }
   ],
   "source": [
    "A = [[1,1,-1],[0,1,2],[1,1,1]]\n",
    "Q, R = find_Q_R(A)\n",
    "print(Q)\n",
    "print(R)"
   ]
  },
  {
   "cell_type": "code",
   "execution_count": 9,
   "metadata": {},
   "outputs": [
    {
     "name": "stdout",
     "output_type": "stream",
     "text": [
      "[[-0.5, 0.5, -0.5], [0.5, 0.5, -0.5], [-0.5, 0.5, 0.5], [0.5, 0.5, 0.5]]\n",
      "[[2.0, 4.0, 2.0], [0, 2.0, 8.0], [0, 0, 4.0]]\n"
     ]
    }
   ],
   "source": [
    "A = [[-1,-1,1],[1,3,3],[-1,-1,5],[1,3,7]]\n",
    "Q, R = find_Q_R(A)\n",
    "print(Q)\n",
    "print(R)"
   ]
  },
  {
   "cell_type": "code",
   "execution_count": 10,
   "metadata": {},
   "outputs": [
    {
     "name": "stdout",
     "output_type": "stream",
     "text": [
      "[[0.2672612419124244, 0.3585685828003181, 0.5962847939999439], [0.5345224838248488, 0.7171371656006362, -0.29814239699997197], [0.8017837257372732, -0.5976143046671969, 4.1375569220787883e-17], [0.0, 0.0, 0.7453559924999299]]\n",
      "[[3.7416573867739413, 1.3363062095621219, 0.2672612419124244], [0, 1.7928429140015902, 0.3585685828003181], [0, 0, 1.3416407864998738]]\n"
     ]
    }
   ],
   "source": [
    "A = [[1,1,1],[2,2,0],[3,0,0],[0,0,1]]\n",
    "Q, R = find_Q_R(A)\n",
    "print(Q)\n",
    "print(R)"
   ]
  },
  {
   "cell_type": "code",
   "execution_count": 11,
   "metadata": {},
   "outputs": [
    {
     "name": "stdout",
     "output_type": "stream",
     "text": [
      "[[-0.8944271909999159, 0.18257418583505533, 0.316227766016838], [0.4472135954999579, 0.36514837167011077, 0.6324555320336759], [0.0, 0.9128709291752769, -0.31622776601683794], [0.0, 0.0, 0.6324555320336759]]\n",
      "[[2.23606797749979, -0.8944271909999159, -2.6832815729997477], [0, 1.0954451150103321, 0.5477225575051661], [0, 0, 1.5811388300841898]]\n"
     ]
    }
   ],
   "source": [
    "A = [[-2,1,3],[1,0,0],[0,1,0],[0,0,1]]\n",
    "Q, R = find_Q_R(A)\n",
    "print(Q)\n",
    "print(R)"
   ]
  },
  {
   "cell_type": "code",
   "execution_count": 12,
   "metadata": {},
   "outputs": [
    {
     "name": "stdout",
     "output_type": "stream",
     "text": [
      "[[0.5773502691896258, -0.25819888974716115, 0.7745966692414834], [0.5773502691896258, 0.5163977794943222, -0.2581988897471611], [-0.5773502691896258, 0.25819888974716115, 0.5163977794943222], [0.0, 0.7745966692414834, 0.2581988897471611]]\n",
      "[[1.7320508075688772, -1.1547005383792517, -0.5773502691896258], [0, 1.2909944487358056, 0.2581988897471611], [0, 0, 3.098386676965934]]\n"
     ]
    }
   ],
   "source": [
    "A = [[1,-1,2],[1,0,-1],[-1,1,2],[0,1,1]]\n",
    "Q, R = find_Q_R(A)\n",
    "print(Q)\n",
    "print(R)"
   ]
  }
 ],
 "metadata": {
  "kernelspec": {
   "display_name": "Python 3.10.5 64-bit",
   "language": "python",
   "name": "python3"
  },
  "language_info": {
   "codemirror_mode": {
    "name": "ipython",
    "version": 3
   },
   "file_extension": ".py",
   "mimetype": "text/x-python",
   "name": "python",
   "nbconvert_exporter": "python",
   "pygments_lexer": "ipython3",
   "version": "3.10.5"
  },
  "orig_nbformat": 4,
  "vscode": {
   "interpreter": {
    "hash": "c4917dc8c7bf15a72ebab6d9e31241f0adb198e7f73246fcefc6912fbb32d1b7"
   }
  }
 },
 "nbformat": 4,
 "nbformat_minor": 2
}
